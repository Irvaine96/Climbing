{
  "nbformat": 4,
  "nbformat_minor": 0,
  "metadata": {
    "kernelspec": {
      "display_name": "Python 3",
      "language": "python",
      "name": "python3"
    },
    "language_info": {
      "codemirror_mode": {
        "name": "ipython",
        "version": 3
      },
      "file_extension": ".py",
      "mimetype": "text/x-python",
      "name": "python",
      "nbconvert_exporter": "python",
      "pygments_lexer": "ipython3",
      "version": "3.7.4"
    },
    "colab": {
      "name": "T2_Pandas_EUEnergy.ipynb",
      "provenance": [],
      "collapsed_sections": []
    }
  },
  "cells": [
    {
      "cell_type": "markdown",
      "metadata": {
        "id": "J0YsSuRJkrSV",
        "colab_type": "text"
      },
      "source": [
        "<head>\n",
        "  <meta name=\"author\" content=\"Rogério de Oliveira\">\n",
        "  <meta institution=\"author\" content=\"Universidade Presbiteriana Mackenzie\">\n",
        "</head>\n",
        "\n",
        "<img src=\"http://meusite.mackenzie.br/rogerio/mackenzie_logo/UPM.2_horizontal_vermelho.jpg\" width=300, align=\"right\"></a>\n",
        "<!-- <h1 align=left><font size = 6, style=\"color:rgb(200,0,0)\"> optional title </font></h1> -->"
      ]
    },
    {
      "cell_type": "markdown",
      "metadata": {
        "id": "guaxIf-ikrSX",
        "colab_type": "text"
      },
      "source": [
        "<h1 align=left><font size = 6, style=\"color:rgb(200,0,0)\">T2 Pandas: European Energy</font></h1>\n",
        "<hr>"
      ]
    },
    {
      "cell_type": "markdown",
      "metadata": {
        "id": "AenzTE16PJkn",
        "colab_type": "text"
      },
      "source": [
        "# **CASE:** **European Energy:** Qual o tipo de Energia mais produzido na Europa? O uso de fontes renováveis já é significativo? \n",
        "\n",
        "[European Energy link](https://github.com/rfordatascience/tidytuesday/blob/master/data/2020/2020-08-04/readme.md)\n",
        "\n",
        "Explore aqui como é a produção de Energia na Europa.\n"
      ]
    },
    {
      "cell_type": "markdown",
      "metadata": {
        "id": "7VywPg3QaJNJ",
        "colab_type": "text"
      },
      "source": [
        "# Lendo os Dados"
      ]
    },
    {
      "cell_type": "code",
      "metadata": {
        "id": "dMz60OlHuxL_",
        "colab_type": "code",
        "colab": {}
      },
      "source": [
        "import pandas as pd\n",
        "df = pd.read_csv('https://raw.githubusercontent.com/rfordatascience/tidytuesday/master/data/2020/2020-08-04/energy_types.csv') \n",
        "\n",
        "df.head()"
      ],
      "execution_count": null,
      "outputs": []
    },
    {
      "cell_type": "markdown",
      "metadata": {
        "id": "uXoBui2paVla",
        "colab_type": "text"
      },
      "source": [
        "#  Entendendo a Estrutura dos Dados"
      ]
    },
    {
      "cell_type": "code",
      "metadata": {
        "id": "54lvEt-DP2k5",
        "colab_type": "code",
        "colab": {}
      },
      "source": [
        "df.shape\n",
        "df.info\n",
        "df.columns\n",
        "df.type.value_counts()\n",
        "df.country_name.unique()\n",
        "df.dtypes\n",
        "df.describe(include = \"all\")"
      ],
      "execution_count": null,
      "outputs": []
    },
    {
      "cell_type": "markdown",
      "metadata": {
        "id": "YV2HIpO3ahXI",
        "colab_type": "text"
      },
      "source": [
        "# Selecionando COLUNAS"
      ]
    },
    {
      "cell_type": "code",
      "metadata": {
        "id": "9lEIkth8RCfL",
        "colab_type": "code",
        "colab": {}
      },
      "source": [
        "df.country_name\n",
        "\n",
        "df['country_name'] # retorna uma Série\n",
        "df[['country_name']] # retorna um Data Frame \n",
        "\n",
        "df[['country','country_name']]"
      ],
      "execution_count": null,
      "outputs": []
    },
    {
      "cell_type": "markdown",
      "metadata": {
        "id": "qCs5EMtBaoFZ",
        "colab_type": "text"
      },
      "source": [
        "# Selecionando LINHAS"
      ]
    },
    {
      "cell_type": "code",
      "metadata": {
        "id": "44REo2tLSLCg",
        "colab_type": "code",
        "colab": {}
      },
      "source": [
        "df[df.country == 'UK']\n",
        "df[ (df.country == 'UK') & (df.level == 'Level 2') ] # não esqueça dos parênteses\n"
      ],
      "execution_count": null,
      "outputs": []
    },
    {
      "cell_type": "code",
      "metadata": {
        "id": "Hm-0SR0Wc2g5",
        "colab_type": "code",
        "colab": {}
      },
      "source": [
        "df[df.country.isin(['UK','BE'])]"
      ],
      "execution_count": null,
      "outputs": []
    },
    {
      "cell_type": "markdown",
      "metadata": {
        "id": "sYPggAJ8atFC",
        "colab_type": "text"
      },
      "source": [
        "# Tudo junto: LINHAS e COLUNAS"
      ]
    },
    {
      "cell_type": "code",
      "metadata": {
        "id": "W1khTpqSSvEh",
        "colab_type": "code",
        "colab": {}
      },
      "source": [
        "df[df.country == 'UK'].type\n",
        "\n",
        "df[df.country == 'UK']['type']\n",
        "df[df.country == 'UK'][['type']]\n",
        "\n",
        "df[df.country == 'UK'][['type','level']]"
      ],
      "execution_count": null,
      "outputs": []
    },
    {
      "cell_type": "markdown",
      "metadata": {
        "id": "3PE0OfTSa2Ut",
        "colab_type": "text"
      },
      "source": [
        "# Criando um SUBCONJUNTO de dados"
      ]
    },
    {
      "cell_type": "code",
      "metadata": {
        "id": "v5VfkYhYUJ-s",
        "colab_type": "code",
        "colab": {}
      },
      "source": [
        "mydf = df[df.country == 'UK'][['type','level']]\n",
        "\n",
        "df.head()\n",
        "df.shape\n",
        "len(df)\n",
        "df.describe(include='all')"
      ],
      "execution_count": null,
      "outputs": []
    },
    {
      "cell_type": "markdown",
      "metadata": {
        "id": "0qEgbFTKbCOK",
        "colab_type": "text"
      },
      "source": [
        "# Seleção por Localização\n",
        "\n",
        "Esse é um recurso mais avançado e você pode deixar para retomá-lo mais adiante se quiser."
      ]
    },
    {
      "cell_type": "code",
      "metadata": {
        "id": "gBwXxbQQUfcd",
        "colab_type": "code",
        "colab": {}
      },
      "source": [
        "df.iloc[0:10,0:2] # por índice\n",
        "df.loc[0:10,['type','level']] # por rótulo"
      ],
      "execution_count": null,
      "outputs": []
    },
    {
      "cell_type": "markdown",
      "metadata": {
        "id": "i9WukY4ebSzZ",
        "colab_type": "text"
      },
      "source": [
        "# Extraindo informações de um atributo\n",
        "\n"
      ]
    },
    {
      "cell_type": "markdown",
      "metadata": {
        "id": "jUVJ-efnbq5K",
        "colab_type": "text"
      },
      "source": [
        "## Coluna inteira"
      ]
    },
    {
      "cell_type": "code",
      "metadata": {
        "id": "bL7AsmK4U-Sv",
        "colab_type": "code",
        "colab": {}
      },
      "source": [
        "df['2018'].mean()\n",
        "df['2018'].sum()\n",
        "df['2018'].max()\n",
        "\n",
        "df['type'].value_counts()\n",
        "\n",
        "# df['2018'].idxmax() # avançado!!! :-)\n",
        "# df.iloc[ df['2018'].idxmax() ]"
      ],
      "execution_count": null,
      "outputs": []
    },
    {
      "cell_type": "markdown",
      "metadata": {
        "id": "PNZwwDLGbi5m",
        "colab_type": "text"
      },
      "source": [
        "## De uma seleção dos dados"
      ]
    },
    {
      "cell_type": "code",
      "metadata": {
        "id": "PMMRutQbVyvs",
        "colab_type": "code",
        "colab": {
          "base_uri": "https://localhost:8080/",
          "height": 34
        },
        "outputId": "6cecf6a8-3bf0-47b4-c444-1bc2cc4566b9"
      },
      "source": [
        "df[df.country == 'UK']['2018'].mean()\n",
        "df[df.country == 'UK']['2018'].sum()\n"
      ],
      "execution_count": null,
      "outputs": [
        {
          "output_type": "execute_result",
          "data": {
            "text/plain": [
              "319891.625"
            ]
          },
          "metadata": {
            "tags": []
          },
          "execution_count": 63
        }
      ]
    },
    {
      "cell_type": "code",
      "metadata": {
        "id": "shw0X5THXPIZ",
        "colab_type": "code",
        "colab": {
          "base_uri": "https://localhost:8080/",
          "height": 34
        },
        "outputId": "4f5a0ab8-b947-454b-85ae-3fdedff5b8be"
      },
      "source": [
        "df[df.type == 'Nuclear']['2018'].mean()"
      ],
      "execution_count": null,
      "outputs": [
        {
          "output_type": "execute_result",
          "data": {
            "text/plain": [
              "23468.48602702703"
            ]
          },
          "metadata": {
            "tags": []
          },
          "execution_count": 64
        }
      ]
    },
    {
      "cell_type": "markdown",
      "metadata": {
        "id": "AQHoBbVub295",
        "colab_type": "text"
      },
      "source": [
        "# Agregações\n",
        "\n",
        "Funcionam de forma análoga a uma `Pivot Table` (tabela dinâmica) do Excel, ou ao `group by` do SQL. "
      ]
    },
    {
      "cell_type": "code",
      "metadata": {
        "id": "R0l4xeP8XegJ",
        "colab_type": "code",
        "colab": {
          "base_uri": "https://localhost:8080/",
          "height": 187
        },
        "outputId": "d6e637a7-c28c-4c98-8f63-17bc7a9239a7"
      },
      "source": [
        "df.groupby('type')['2018'].mean()\n",
        "df.groupby('type')['2018'].max()\n",
        "df.groupby('type')['2018'].count()\n",
        "\n",
        "df.groupby(['level','type'])['2018'].mean()\n",
        "\n",
        "# dfgroup = pd.DataFrame(df.groupby('type')['2018'].mean()) # avançado :-)\n",
        "# dfgroup = dfgroup.reset_index()\n",
        "# dfgroup\n"
      ],
      "execution_count": 86,
      "outputs": [
        {
          "output_type": "execute_result",
          "data": {
            "text/plain": [
              "type\n",
              "Conventional thermal    37\n",
              "Geothermal              37\n",
              "Hydro                   37\n",
              "Nuclear                 37\n",
              "Other                   37\n",
              "Pumped hydro power      37\n",
              "Solar                   37\n",
              "Wind                    37\n",
              "Name: 2018, dtype: int64"
            ]
          },
          "metadata": {
            "tags": []
          },
          "execution_count": 86
        }
      ]
    },
    {
      "cell_type": "markdown",
      "metadata": {
        "id": "EzCauokyfWE4",
        "colab_type": "text"
      },
      "source": [
        "# Qual o percentual de Energia renovável produzida na Europa?"
      ]
    },
    {
      "cell_type": "code",
      "metadata": {
        "id": "VwOSURQxcVum",
        "colab_type": "code",
        "colab": {
          "base_uri": "https://localhost:8080/",
          "height": 34
        },
        "outputId": "bc663091-6c37-434e-c26c-7780959f3919"
      },
      "source": [
        "df.type.unique()\n",
        "# ['Conventional thermal', 'Nuclear', 'Hydro', 'Pumped hydro power',\n",
        "#       'Wind', 'Solar', 'Geothermal', 'Other']\n",
        "\n",
        "total_renovavel = df[ df.type.isin(['Hydro', 'Pumped hydro power', 'Wind', 'Solar', 'Geothermal', 'Other']) ]['2018'].sum()\n",
        "total = df['2018'].sum()\n",
        "\n",
        "perc_renovavel = total_renovavel / total\n",
        "\n",
        "print('Percentual de Energia Renovável produzida na Europa: {:0.2f}'.format(perc_renovavel))\n"
      ],
      "execution_count": null,
      "outputs": [
        {
          "output_type": "stream",
          "text": [
            "Percentual de Energia Renovável produzida na Europa: 0.32\n"
          ],
          "name": "stdout"
        }
      ]
    },
    {
      "cell_type": "markdown",
      "metadata": {
        "id": "uazYDsrSflvL",
        "colab_type": "text"
      },
      "source": [
        "# Qual o percentual de Energia nuclear produzida na Europa?"
      ]
    },
    {
      "cell_type": "code",
      "metadata": {
        "id": "zBANBp6uerBi",
        "colab_type": "code",
        "colab": {
          "base_uri": "https://localhost:8080/",
          "height": 34
        },
        "outputId": "60ebd96b-7411-4624-a26e-6a6d06ecd34e"
      },
      "source": [
        "df.type.unique()\n",
        "# ['Conventional thermal', 'Nuclear', 'Hydro', 'Pumped hydro power',\n",
        "#       'Wind', 'Solar', 'Geothermal', 'Other']\n",
        "\n",
        "total_nuclear = df[ df.type == 'Nuclear' ]['2018'].sum()\n",
        "total = df['2018'].sum()\n",
        "\n",
        "perc_nuclear = total_nuclear / total\n",
        "\n",
        "print('Percentual de Energia Nuclear produzida na Europa: {:0.2f}'.format(perc_nuclear))"
      ],
      "execution_count": null,
      "outputs": [
        {
          "output_type": "stream",
          "text": [
            "Percentual de Energia Nuclear produzida na Europa: 0.23\n"
          ],
          "name": "stdout"
        }
      ]
    },
    {
      "cell_type": "markdown",
      "metadata": {
        "id": "fgFYTFU4ftzU",
        "colab_type": "text"
      },
      "source": [
        "# Qual o percentual de Energia renovável produzida na França?"
      ]
    },
    {
      "cell_type": "code",
      "metadata": {
        "id": "OP52Mk-WfA2Y",
        "colab_type": "code",
        "colab": {
          "base_uri": "https://localhost:8080/",
          "height": 34
        },
        "outputId": "3267fffa-f7b2-4cb5-b086-55cf3acb409f"
      },
      "source": [
        "df.type.unique()\n",
        "# ['Conventional thermal', 'Nuclear', 'Hydro', 'Pumped hydro power',\n",
        "#       'Wind', 'Solar', 'Geothermal', 'Other']\n",
        "\n",
        "total_nuclear = df[ (df.type == 'Nuclear') & (df.country == 'FR') ]['2018'].sum()\n",
        "total = df[ df.country == 'FR' ]['2018'].sum()\n",
        "\n",
        "perc_nuclear = total_nuclear / total\n",
        "\n",
        "print('Percentual de Energia Nuclear produzida na França: {:0.2f}'.format(perc_nuclear))"
      ],
      "execution_count": null,
      "outputs": [
        {
          "output_type": "stream",
          "text": [
            "Percentual de Energia Nuclear produzida na França: 0.70\n"
          ],
          "name": "stdout"
        }
      ]
    }
  ]
}